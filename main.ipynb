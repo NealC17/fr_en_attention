{
 "cells": [
  {
   "cell_type": "code",
   "execution_count": 1,
   "id": "4c4bfc18-b02c-4e87-80e1-57077a8a3ad8",
   "metadata": {},
   "outputs": [
    {
     "name": "stderr",
     "output_type": "stream",
     "text": [
      "/Users/neal/Documents/python_projects/fr_en_attention/.env/lib/python3.11/site-packages/tqdm/auto.py:21: TqdmWarning: IProgress not found. Please update jupyter and ipywidgets. See https://ipywidgets.readthedocs.io/en/stable/user_install.html\n",
      "  from .autonotebook import tqdm as notebook_tqdm\n"
     ]
    }
   ],
   "source": [
    "import numpy as np \n",
    "import pandas as pd \n",
    "import torch \n",
    "from datasets import load_dataset\n",
    "\n",
    "from tokenizers import Tokenizer\n",
    "from tokenizers.models import BPE\n",
    "from tokenizers.pre_tokenizers import Whitespace\n",
    "\n",
    "\n",
    "dataset = load_dataset(\"wmt14\", \"fr-en\")\n"
   ]
  },
  {
   "cell_type": "code",
   "execution_count": 2,
   "id": "b1a12cae-df3d-4ffe-9dd8-c95e687d32ce",
   "metadata": {},
   "outputs": [],
   "source": [
    "tokenizer = Tokenizer(BPE())\n",
    "tokenizer.pre_tokenizer = Whitespace()\n"
   ]
  },
  {
   "cell_type": "code",
   "execution_count": 3,
   "id": "e8fa9a5a-3c81-4276-9a3c-86af152d9772",
   "metadata": {},
   "outputs": [
    {
     "data": {
      "text/plain": [
       "'Je déclare reprise la session du Parlement européen qui avait été interrompue le vendredi 17 décembre dernier et je vous renouvelle tous mes vux en espérant que vous avez passé de bonnes vacances.'"
      ]
     },
     "execution_count": 3,
     "metadata": {},
     "output_type": "execute_result"
    }
   ],
   "source": [
    "dataset['train'][1]['translation']['fr']\n"
   ]
  },
  {
   "cell_type": "code",
   "execution_count": 4,
   "id": "4984f60d-f41d-4709-8c4b-9c4c9a890413",
   "metadata": {},
   "outputs": [
    {
     "data": {
      "text/plain": [
       "40836715"
      ]
     },
     "execution_count": 4,
     "metadata": {},
     "output_type": "execute_result"
    }
   ],
   "source": [
    "dataset['train'].num_rows"
   ]
  },
  {
   "cell_type": "code",
   "execution_count": 5,
   "id": "478a7b5a-319d-4212-ba6c-7a075be120c7",
   "metadata": {},
   "outputs": [
    {
     "data": {
      "text/plain": [
       "DatasetDict({\n",
       "    train: Dataset({\n",
       "        features: ['translation'],\n",
       "        num_rows: 40836715\n",
       "    })\n",
       "    validation: Dataset({\n",
       "        features: ['translation'],\n",
       "        num_rows: 3000\n",
       "    })\n",
       "    test: Dataset({\n",
       "        features: ['translation'],\n",
       "        num_rows: 3003\n",
       "    })\n",
       "})"
      ]
     },
     "execution_count": 5,
     "metadata": {},
     "output_type": "execute_result"
    }
   ],
   "source": [
    "dataset"
   ]
  },
  {
   "cell_type": "code",
   "execution_count": 6,
   "id": "dab137bc-5d1b-4e53-82de-77a44ae317d9",
   "metadata": {},
   "outputs": [
    {
     "name": "stderr",
     "output_type": "stream",
     "text": [
      "100%|██████████████████████████████████████████████████████████████████████████████████████████████████████████████████████████████████████████████████████| 3003/3003 [00:00<00:00, 60556.72it/s]\n",
      "100%|██████████████████████████████████████████████████████████████████████████████████████████████████████████████████████████████████████████████████████| 3003/3003 [00:00<00:00, 72426.20it/s]\n",
      "100%|██████████████████████████████████████████████████████████████████████████████████████████████████████████████████████████████████████████████████████| 3000/3000 [00:00<00:00, 66556.89it/s]\n",
      "100%|██████████████████████████████████████████████████████████████████████████████████████████████████████████████████████████████████████████████████████| 3000/3000 [00:00<00:00, 72518.14it/s]\n"
     ]
    }
   ],
   "source": [
    "from tqdm import tqdm\n",
    "def get_set(d):\n",
    "    x = [d[i]['translation']['en'] for i in tqdm(range(d.num_rows))]\n",
    "    y = [d[i]['translation']['fr'] for i in tqdm(range(d.num_rows))]\n",
    "    return x, y\n",
    "\n",
    "\n",
    "X_test, y_test = get_set(dataset['test'])\n",
    "X_val, y_val = get_set(dataset['validation'])"
   ]
  },
  {
   "cell_type": "code",
   "execution_count": 7,
   "id": "ef3571cd-6e72-4343-8879-7b2c5b45a4bf",
   "metadata": {},
   "outputs": [
    {
     "data": {
      "text/plain": [
       "('Spectacular Wingsuit Jump Over Bogota',\n",
       " 'Spectaculaire saut en \"wingsuit\" au-dessus de Bogota')"
      ]
     },
     "execution_count": 7,
     "metadata": {},
     "output_type": "execute_result"
    }
   ],
   "source": [
    "X_test[0], y_test[0]"
   ]
  },
  {
   "cell_type": "code",
   "execution_count": 8,
   "id": "bc5938b3-676f-4610-99ff-812ba83d0c3c",
   "metadata": {},
   "outputs": [
    {
     "name": "stderr",
     "output_type": "stream",
     "text": [
      "100%|██████████████████████████████████████████████████████████████████████████████████████████████████████████████████████████████████████████████| 40836715/40836715 [10:00<00:00, 68011.59it/s]\n",
      "100%|██████████████████████████████████████████████████████████████████████████████████████████████████████████████████████████████████████████████| 40836715/40836715 [10:12<00:00, 66670.90it/s]\n"
     ]
    }
   ],
   "source": [
    "X_train, y_train = get_set(dataset['train'])"
   ]
  },
  {
   "cell_type": "code",
   "execution_count": 9,
   "id": "6e821c7e-0d4f-4e3c-a721-3bb075b9f6c8",
   "metadata": {},
   "outputs": [
    {
     "data": {
      "text/plain": [
       "('Resumption of the session', 'Reprise de la session')"
      ]
     },
     "execution_count": 9,
     "metadata": {},
     "output_type": "execute_result"
    }
   ],
   "source": [
    "X_train[0], y_train[0]"
   ]
  },
  {
   "cell_type": "code",
   "execution_count": null,
   "id": "1daeff02-ddb6-48c8-baf8-76ed86256f82",
   "metadata": {},
   "outputs": [],
   "source": [
    "import pickle \n",
    "\n",
    "def parquet(d, filepath):\n",
    "    with open(filepath, \"wb\") as f:\n",
    "        pickle.dump(d, f)\n",
    "\n",
    "parquet(X_train, 'X_train.p')\n",
    "parquet(y_train, 'y_train.p')"
   ]
  },
  {
   "cell_type": "code",
   "execution_count": null,
   "id": "d0ddecdb-e70a-4d89-8ae3-da8e712b3971",
   "metadata": {},
   "outputs": [],
   "source": []
  }
 ],
 "metadata": {
  "kernelspec": {
   "display_name": "Python 3 (ipykernel)",
   "language": "python",
   "name": "python3"
  },
  "language_info": {
   "codemirror_mode": {
    "name": "ipython",
    "version": 3
   },
   "file_extension": ".py",
   "mimetype": "text/x-python",
   "name": "python",
   "nbconvert_exporter": "python",
   "pygments_lexer": "ipython3",
   "version": "3.11.8"
  }
 },
 "nbformat": 4,
 "nbformat_minor": 5
}
